{
 "cells": [
  {
   "cell_type": "code",
   "execution_count": 1,
   "id": "b4fd7f12",
   "metadata": {},
   "outputs": [],
   "source": [
    "import cv2\n",
    "from cv2 import createBackgroundSubtractorMOG2\n",
    "import numpy as np"
   ]
  },
  {
   "cell_type": "code",
   "execution_count": 11,
   "id": "1abb2b51",
   "metadata": {},
   "outputs": [],
   "source": [
    "cap = cv2.VideoCapture(0)\n",
    "\n",
    "BSMog2 = createBackgroundSubtractorMOG2()\n",
    "face_cascade = cv2.CascadeClassifier(\"haarcascade_frontalface_default.xml\")\n",
    "\n",
    "while True:\n",
    "    ret,frame = cap.read()\n",
    "    \n",
    "    fgmask = BSMog2.apply(frame)\n",
    "    face_rect = face_cascade.detectMultiScale(fgmask,minNeighbors=5)\n",
    "    \n",
    "    for x,y,w,h in face_rect:\n",
    "        cv2.rectangle(fgmask,(x,y),(x+w,y+h),(0,255,255),2)\n",
    "    \n",
    "    cv2.imshow(\"fgmask\",fgmask)\n",
    "    \n",
    "    for x,y,w,h in face_rect:\n",
    "        cv2.rectangle(frame,(x,y),(x+w,y+h),(0,255,255),2)\n",
    "    \n",
    "    cv2.imshow(\"Frame\",frame)\n",
    "    if cv2.waitKey(1) & 0xFF == ord(\"q\"): break\n",
    "        \n",
    "cap.release()\n",
    "cv2.destroyAllWindows()"
   ]
  },
  {
   "cell_type": "code",
   "execution_count": null,
   "id": "d36bae46",
   "metadata": {},
   "outputs": [],
   "source": []
  }
 ],
 "metadata": {
  "kernelspec": {
   "display_name": "Python 3 (ipykernel)",
   "language": "python",
   "name": "python3"
  },
  "language_info": {
   "codemirror_mode": {
    "name": "ipython",
    "version": 3
   },
   "file_extension": ".py",
   "mimetype": "text/x-python",
   "name": "python",
   "nbconvert_exporter": "python",
   "pygments_lexer": "ipython3",
   "version": "3.9.13"
  }
 },
 "nbformat": 4,
 "nbformat_minor": 5
}
